{
  "nbformat": 4,
  "nbformat_minor": 0,
  "metadata": {
    "colab": {
      "provenance": []
    },
    "kernelspec": {
      "name": "python3",
      "display_name": "Python 3"
    },
    "language_info": {
      "name": "python"
    }
  },
  "cells": [
    {
      "cell_type": "code",
      "source": [
        "!python -m spacy download en_core_web_lg"
      ],
      "metadata": {
        "colab": {
          "base_uri": "https://localhost:8080/"
        },
        "id": "j5e1xP6iCQzT",
        "outputId": "36c96216-2419-45b6-d2b9-6ab47c81b0a5"
      },
      "execution_count": null,
      "outputs": [
        {
          "output_type": "stream",
          "name": "stdout",
          "text": [
            "Collecting en-core-web-lg==3.7.1\n",
            "  Downloading https://github.com/explosion/spacy-models/releases/download/en_core_web_lg-3.7.1/en_core_web_lg-3.7.1-py3-none-any.whl (587.7 MB)\n",
            "\u001b[2K     \u001b[90m━━━━━━━━━━━━━━━━━━━━━━━━━━━━━━━━━━━━━━━━\u001b[0m \u001b[32m587.7/587.7 MB\u001b[0m \u001b[31m2.6 MB/s\u001b[0m eta \u001b[36m0:00:00\u001b[0m\n",
            "\u001b[?25hRequirement already satisfied: spacy<3.8.0,>=3.7.2 in /usr/local/lib/python3.10/dist-packages (from en-core-web-lg==3.7.1) (3.7.2)\n",
            "Requirement already satisfied: spacy-legacy<3.1.0,>=3.0.11 in /usr/local/lib/python3.10/dist-packages (from spacy<3.8.0,>=3.7.2->en-core-web-lg==3.7.1) (3.0.12)\n",
            "Requirement already satisfied: spacy-loggers<2.0.0,>=1.0.0 in /usr/local/lib/python3.10/dist-packages (from spacy<3.8.0,>=3.7.2->en-core-web-lg==3.7.1) (1.0.5)\n",
            "Requirement already satisfied: murmurhash<1.1.0,>=0.28.0 in /usr/local/lib/python3.10/dist-packages (from spacy<3.8.0,>=3.7.2->en-core-web-lg==3.7.1) (1.0.10)\n",
            "Requirement already satisfied: cymem<2.1.0,>=2.0.2 in /usr/local/lib/python3.10/dist-packages (from spacy<3.8.0,>=3.7.2->en-core-web-lg==3.7.1) (2.0.8)\n",
            "Requirement already satisfied: preshed<3.1.0,>=3.0.2 in /usr/local/lib/python3.10/dist-packages (from spacy<3.8.0,>=3.7.2->en-core-web-lg==3.7.1) (3.0.9)\n",
            "Requirement already satisfied: thinc<8.3.0,>=8.1.8 in /usr/local/lib/python3.10/dist-packages (from spacy<3.8.0,>=3.7.2->en-core-web-lg==3.7.1) (8.2.3)\n",
            "Requirement already satisfied: wasabi<1.2.0,>=0.9.1 in /usr/local/lib/python3.10/dist-packages (from spacy<3.8.0,>=3.7.2->en-core-web-lg==3.7.1) (1.1.2)\n",
            "Requirement already satisfied: srsly<3.0.0,>=2.4.3 in /usr/local/lib/python3.10/dist-packages (from spacy<3.8.0,>=3.7.2->en-core-web-lg==3.7.1) (2.4.8)\n",
            "Requirement already satisfied: catalogue<2.1.0,>=2.0.6 in /usr/local/lib/python3.10/dist-packages (from spacy<3.8.0,>=3.7.2->en-core-web-lg==3.7.1) (2.0.10)\n",
            "Requirement already satisfied: weasel<0.4.0,>=0.1.0 in /usr/local/lib/python3.10/dist-packages (from spacy<3.8.0,>=3.7.2->en-core-web-lg==3.7.1) (0.3.4)\n",
            "Requirement already satisfied: typer<0.10.0,>=0.3.0 in /usr/local/lib/python3.10/dist-packages (from spacy<3.8.0,>=3.7.2->en-core-web-lg==3.7.1) (0.9.0)\n",
            "Requirement already satisfied: smart-open<7.0.0,>=5.2.1 in /usr/local/lib/python3.10/dist-packages (from spacy<3.8.0,>=3.7.2->en-core-web-lg==3.7.1) (6.4.0)\n",
            "Requirement already satisfied: tqdm<5.0.0,>=4.38.0 in /usr/local/lib/python3.10/dist-packages (from spacy<3.8.0,>=3.7.2->en-core-web-lg==3.7.1) (4.66.2)\n",
            "Requirement already satisfied: requests<3.0.0,>=2.13.0 in /usr/local/lib/python3.10/dist-packages (from spacy<3.8.0,>=3.7.2->en-core-web-lg==3.7.1) (2.31.0)\n",
            "Requirement already satisfied: pydantic!=1.8,!=1.8.1,<3.0.0,>=1.7.4 in /usr/local/lib/python3.10/dist-packages (from spacy<3.8.0,>=3.7.2->en-core-web-lg==3.7.1) (2.6.1)\n",
            "Requirement already satisfied: jinja2 in /usr/local/lib/python3.10/dist-packages (from spacy<3.8.0,>=3.7.2->en-core-web-lg==3.7.1) (3.1.3)\n",
            "Requirement already satisfied: setuptools in /usr/local/lib/python3.10/dist-packages (from spacy<3.8.0,>=3.7.2->en-core-web-lg==3.7.1) (67.7.2)\n",
            "Requirement already satisfied: packaging>=20.0 in /usr/local/lib/python3.10/dist-packages (from spacy<3.8.0,>=3.7.2->en-core-web-lg==3.7.1) (23.2)\n",
            "Requirement already satisfied: langcodes<4.0.0,>=3.2.0 in /usr/local/lib/python3.10/dist-packages (from spacy<3.8.0,>=3.7.2->en-core-web-lg==3.7.1) (3.3.0)\n",
            "Requirement already satisfied: numpy>=1.19.0 in /usr/local/lib/python3.10/dist-packages (from spacy<3.8.0,>=3.7.2->en-core-web-lg==3.7.1) (1.25.2)\n",
            "Requirement already satisfied: annotated-types>=0.4.0 in /usr/local/lib/python3.10/dist-packages (from pydantic!=1.8,!=1.8.1,<3.0.0,>=1.7.4->spacy<3.8.0,>=3.7.2->en-core-web-lg==3.7.1) (0.6.0)\n",
            "Requirement already satisfied: pydantic-core==2.16.2 in /usr/local/lib/python3.10/dist-packages (from pydantic!=1.8,!=1.8.1,<3.0.0,>=1.7.4->spacy<3.8.0,>=3.7.2->en-core-web-lg==3.7.1) (2.16.2)\n",
            "Requirement already satisfied: typing-extensions>=4.6.1 in /usr/local/lib/python3.10/dist-packages (from pydantic!=1.8,!=1.8.1,<3.0.0,>=1.7.4->spacy<3.8.0,>=3.7.2->en-core-web-lg==3.7.1) (4.9.0)\n",
            "Requirement already satisfied: charset-normalizer<4,>=2 in /usr/local/lib/python3.10/dist-packages (from requests<3.0.0,>=2.13.0->spacy<3.8.0,>=3.7.2->en-core-web-lg==3.7.1) (3.3.2)\n",
            "Requirement already satisfied: idna<4,>=2.5 in /usr/local/lib/python3.10/dist-packages (from requests<3.0.0,>=2.13.0->spacy<3.8.0,>=3.7.2->en-core-web-lg==3.7.1) (3.6)\n",
            "Requirement already satisfied: urllib3<3,>=1.21.1 in /usr/local/lib/python3.10/dist-packages (from requests<3.0.0,>=2.13.0->spacy<3.8.0,>=3.7.2->en-core-web-lg==3.7.1) (2.0.7)\n",
            "Requirement already satisfied: certifi>=2017.4.17 in /usr/local/lib/python3.10/dist-packages (from requests<3.0.0,>=2.13.0->spacy<3.8.0,>=3.7.2->en-core-web-lg==3.7.1) (2024.2.2)\n",
            "Requirement already satisfied: blis<0.8.0,>=0.7.8 in /usr/local/lib/python3.10/dist-packages (from thinc<8.3.0,>=8.1.8->spacy<3.8.0,>=3.7.2->en-core-web-lg==3.7.1) (0.7.11)\n",
            "Requirement already satisfied: confection<1.0.0,>=0.0.1 in /usr/local/lib/python3.10/dist-packages (from thinc<8.3.0,>=8.1.8->spacy<3.8.0,>=3.7.2->en-core-web-lg==3.7.1) (0.1.4)\n",
            "Requirement already satisfied: click<9.0.0,>=7.1.1 in /usr/local/lib/python3.10/dist-packages (from typer<0.10.0,>=0.3.0->spacy<3.8.0,>=3.7.2->en-core-web-lg==3.7.1) (8.1.7)\n",
            "Requirement already satisfied: cloudpathlib<0.17.0,>=0.7.0 in /usr/local/lib/python3.10/dist-packages (from weasel<0.4.0,>=0.1.0->spacy<3.8.0,>=3.7.2->en-core-web-lg==3.7.1) (0.16.0)\n",
            "Requirement already satisfied: MarkupSafe>=2.0 in /usr/local/lib/python3.10/dist-packages (from jinja2->spacy<3.8.0,>=3.7.2->en-core-web-lg==3.7.1) (2.1.5)\n",
            "Installing collected packages: en-core-web-lg\n",
            "Successfully installed en-core-web-lg-3.7.1\n",
            "\u001b[38;5;2m✔ Download and installation successful\u001b[0m\n",
            "You can now load the package via spacy.load('en_core_web_lg')\n"
          ]
        }
      ]
    },
    {
      "cell_type": "code",
      "source": [
        "from google.colab import drive\n",
        "drive.mount('/content/drive')"
      ],
      "metadata": {
        "colab": {
          "base_uri": "https://localhost:8080/"
        },
        "id": "GTDr0bZSCMkr",
        "outputId": "b5f447cf-04bd-46e5-8e69-83ea524bc2f1"
      },
      "execution_count": null,
      "outputs": [
        {
          "output_type": "stream",
          "name": "stdout",
          "text": [
            "Mounted at /content/drive\n"
          ]
        }
      ]
    },
    {
      "cell_type": "code",
      "execution_count": null,
      "metadata": {
        "colab": {
          "base_uri": "https://localhost:8080/"
        },
        "id": "y_xekWVu_i6v",
        "outputId": "cf153931-2f2e-4eae-861e-fdb538599d19"
      },
      "outputs": [
        {
          "output_type": "stream",
          "name": "stdout",
          "text": [
            "                review_id                 user_id             business_id  \\\n",
            "0  IVS7do_HBzroiCiymNdxDg  fdFgZQQYQJeEAshH4lxSfQ  sGy67CpJctjeCWClWqonjA   \n",
            "1  QP2pSzSqpJTMWOCuUuyXkQ  JBLWSXBTKFvJYYiM-FnCOQ  3w7NRntdQ9h0KwDsksIt5Q   \n",
            "2  oK0cGYStgDOusZKz9B1qug  2_9fKnXChUjC5xArfF8BLg  OMnPtRGmbY8qH_wIILfYKA   \n",
            "3  E_ABvFCNVLbfOgRg3Pv1KQ  9MExTQ76GSKhxSWnTS901g  V9XlikTxq0My4gE8LULsjw   \n",
            "4  Rd222CrrnXkXukR2iWj69g  LPxuausjvDN88uPr-Q4cQA  CA5BOxKRDPGJgdUQ8OUOpw   \n",
            "\n",
            "   stars  useful  funny  cool  \\\n",
            "0      3       1      1     0   \n",
            "1      5       1      1     1   \n",
            "2      5       1      0     0   \n",
            "3      5       0      0     0   \n",
            "4      4       1      0     0   \n",
            "\n",
            "                                                text                 date  \n",
            "0  OK, the hype about having Hatch chili in your ...  2020-01-27 22:59:06  \n",
            "1  Pandemic pit stop to have an ice cream.... onl...  2020-04-19 05:33:16  \n",
            "2  I was lucky enough to go to the soft opening a...  2020-02-29 19:43:44  \n",
            "3  I've gone to claim Jumpers all over the US and...  2020-03-14 21:47:07  \n",
            "4  If you haven't been  to Maynard's kitchen, it'...  2020-01-17 20:32:57  \n",
            "(48147, 9)\n",
            "              stars        useful         funny          cool\n",
            "count  48147.000000  48147.000000  48147.000000  48147.000000\n",
            "mean       3.736702      0.858683      0.183106      0.439903\n",
            "std        1.557289      1.831488      0.807035      1.451746\n",
            "min        1.000000      0.000000      0.000000      0.000000\n",
            "25%        2.000000      0.000000      0.000000      0.000000\n",
            "50%        5.000000      0.000000      0.000000      0.000000\n",
            "75%        5.000000      1.000000      0.000000      0.000000\n",
            "max        5.000000    105.000000     55.000000    106.000000\n"
          ]
        }
      ],
      "source": [
        "# Code cell 1\n",
        "import json\n",
        "import re\n",
        "import numpy as np\n",
        "import pandas as pd\n",
        "import matplotlib.pyplot as plt\n",
        "import seaborn as sns\n",
        "from wordcloud import WordCloud, STOPWORDS\n",
        "from sklearn.preprocessing import LabelEncoder\n",
        "from sklearn.feature_extraction.text import CountVectorizer\n",
        "from sklearn.metrics import confusion_matrix\n",
        "from sklearn.model_selection import train_test_split\n",
        "import tensorflow as tf\n",
        "from tensorflow.keras.preprocessing.text import Tokenizer\n",
        "from tensorflow.keras.preprocessing.sequence import pad_sequences\n",
        "from keras.preprocessing.text import Tokenizer\n",
        "from keras.models import Sequential\n",
        "from keras.layers import Embedding, GRU, LSTM, Dense\n",
        "\n",
        "# Load the CSV file into a DataFrame\n",
        "rra = r'/content/drive/MyDrive/restaurant_reviews_az.csv'\n",
        "df= pd.read_csv(rra)\n",
        "\n",
        "# Summary\n",
        "print(df.head(5))\n",
        "print(df.shape)\n",
        "print(df.describe())\n"
      ]
    },
    {
      "cell_type": "code",
      "source": [
        "# Code cell 2\n",
        "# Remove 3-star reviews and create a Sentiment column\n",
        "df = df[df['stars'] != 3]\n",
        "df.loc[:, 'Sentiment'] = df['stars'].apply(lambda x: 1 if x >= 4 else 0)\n",
        "df['Sentiment'].head()"
      ],
      "metadata": {
        "id": "BA66rkpICNjQ",
        "colab": {
          "base_uri": "https://localhost:8080/"
        },
        "outputId": "279a979b-ec79-4f73-9e17-ba9c34b38bcd"
      },
      "execution_count": null,
      "outputs": [
        {
          "output_type": "execute_result",
          "data": {
            "text/plain": [
              "1    1\n",
              "2    1\n",
              "3    1\n",
              "4    1\n",
              "5    0\n",
              "Name: Sentiment, dtype: int64"
            ]
          },
          "metadata": {},
          "execution_count": 23
        }
      ]
    },
    {
      "cell_type": "code",
      "source": [
        "# Code cell 3\n",
        "# Data processing and splitting\n",
        "X = df['text'].values\n",
        "y = df['Sentiment'].values\n",
        "\n",
        "# Split the data into training and testing sets (80% training, 20% testing)\n",
        "X_train, X_test, y_train, y_test = train_test_split(X, y, test_size=0.2, random_state=42)\n",
        "\n",
        "# Display the shapes of the training and testing sets\n",
        "print(\"Training set shape:\", X_train.shape, y_train.shape)\n",
        "print(\"Testing set shape:\", X_test.shape, y_test.shape)\n",
        "\n"
      ],
      "metadata": {
        "colab": {
          "base_uri": "https://localhost:8080/"
        },
        "id": "yc1AE8GVWDUD",
        "outputId": "9eabb622-c59a-4934-a2fb-d73e0294ba64"
      },
      "execution_count": null,
      "outputs": [
        {
          "output_type": "stream",
          "name": "stdout",
          "text": [
            "Training set shape: (35274,) (35274,)\n",
            "Testing set shape: (8819,) (8819,)\n"
          ]
        }
      ]
    },
    {
      "cell_type": "code",
      "source": [
        "!wget http://nlp.stanford.edu/data/glove.6B.zip\n",
        "!unzip glove*.zip"
      ],
      "metadata": {
        "colab": {
          "base_uri": "https://localhost:8080/"
        },
        "id": "D57-rIGtbNfE",
        "outputId": "11c17df4-5835-4ab1-cf66-198b6289eeb3"
      },
      "execution_count": null,
      "outputs": [
        {
          "output_type": "stream",
          "name": "stdout",
          "text": [
            "--2024-02-17 17:30:21--  http://nlp.stanford.edu/data/glove.6B.zip\n",
            "Resolving nlp.stanford.edu (nlp.stanford.edu)... 171.64.67.140\n",
            "Connecting to nlp.stanford.edu (nlp.stanford.edu)|171.64.67.140|:80... connected.\n",
            "HTTP request sent, awaiting response... 302 Found\n",
            "Location: https://nlp.stanford.edu/data/glove.6B.zip [following]\n",
            "--2024-02-17 17:30:21--  https://nlp.stanford.edu/data/glove.6B.zip\n",
            "Connecting to nlp.stanford.edu (nlp.stanford.edu)|171.64.67.140|:443... connected.\n",
            "HTTP request sent, awaiting response... 301 Moved Permanently\n",
            "Location: https://downloads.cs.stanford.edu/nlp/data/glove.6B.zip [following]\n",
            "--2024-02-17 17:30:21--  https://downloads.cs.stanford.edu/nlp/data/glove.6B.zip\n",
            "Resolving downloads.cs.stanford.edu (downloads.cs.stanford.edu)... 171.64.64.22\n",
            "Connecting to downloads.cs.stanford.edu (downloads.cs.stanford.edu)|171.64.64.22|:443... connected.\n",
            "HTTP request sent, awaiting response... 200 OK\n",
            "Length: 862182613 (822M) [application/zip]\n",
            "Saving to: ‘glove.6B.zip’\n",
            "\n",
            "glove.6B.zip        100%[===================>] 822.24M  5.01MB/s    in 2m 39s  \n",
            "\n",
            "2024-02-17 17:33:00 (5.17 MB/s) - ‘glove.6B.zip’ saved [862182613/862182613]\n",
            "\n",
            "Archive:  glove.6B.zip\n",
            "  inflating: glove.6B.50d.txt        \n",
            "  inflating: glove.6B.100d.txt       \n",
            "  inflating: glove.6B.200d.txt       \n",
            "  inflating: glove.6B.300d.txt       \n"
          ]
        }
      ]
    },
    {
      "cell_type": "code",
      "source": [
        "# Code cell 4\n",
        "# load the pre-trained GloVe word embeddings\n",
        "EMBEDDING_FILE = '/content/glove.6B.100d.txt'\n",
        "word_vectors = {}\n",
        "with open(EMBEDDING_FILE, encoding=\"utf8\") as f:\n",
        "    for line in f:\n",
        "        values = line.split()\n",
        "        word = values[0]\n",
        "        coefs = np.asarray(values[1:], dtype='float32')\n",
        "        word_vectors[word] = coefs"
      ],
      "metadata": {
        "id": "lHs99FBqbOUm"
      },
      "execution_count": null,
      "outputs": []
    },
    {
      "cell_type": "code",
      "source": [
        "# Code cell 4\n",
        "# Define the function to create the embedding matrix\n",
        "def create_embedding_matrix(word_index, embedding_dict, embedding_dim):\n",
        "    embedding_matrix = np.zeros((len(word_index) + 1, embedding_dim))\n",
        "\n",
        "    for word, i in word_index.items():\n",
        "        embedding_vector = embedding_dict.get(word)\n",
        "        if embedding_vector is not None:\n",
        "            embedding_matrix[i] = embedding_vector\n",
        "\n",
        "    return embedding_matrix\n",
        "\n",
        "# Tokenize the text data using Tokenizer\n",
        "tokenizer = Tokenizer()\n",
        "tokenizer.fit_on_texts(X_train)\n",
        "\n",
        "# Create word index from the tokenizer\n",
        "word_index = tokenizer.word_index\n",
        "\n",
        "# Define the embedding dimension based on the GloVe embedding file used\n",
        "embedding_dim = 100\n",
        "\n",
        "# Create the embedding matrix using the pre-trained GloVe word embeddings\n",
        "embedding_matrix = create_embedding_matrix(word_index, word_vectors, embedding_dim)\n",
        "\n",
        "# Check the shape of the embedding matrix\n",
        "print(\"Shape of Embedding Matrix:\", embedding_matrix.shape)"
      ],
      "metadata": {
        "colab": {
          "base_uri": "https://localhost:8080/"
        },
        "id": "Z1t6tGE8bW6Q",
        "outputId": "94e81de8-b4a6-4848-ca9f-89c31efa55f6"
      },
      "execution_count": null,
      "outputs": [
        {
          "output_type": "stream",
          "name": "stdout",
          "text": [
            "Shape of Embedding Matrix: (33420, 100)\n"
          ]
        }
      ]
    },
    {
      "cell_type": "code",
      "source": [
        "# Code Cell 5\n",
        "max_length = 100\n",
        "\n",
        "# Tokenize the training and testing data\n",
        "X_train_sequences = tokenizer.texts_to_sequences(X_train)\n",
        "X_test_sequences = tokenizer.texts_to_sequences(X_test)\n",
        "\n",
        "# Pad the sequences to have consistent length\n",
        "X_train_padded = pad_sequences(X_train_sequences, maxlen=max_length, padding='post', truncating='post')\n",
        "X_test_padded = pad_sequences(X_test_sequences, maxlen=max_length, padding='post', truncating='post')\n",
        "\n",
        "# Build the GRU model with pre-trained GloVe embeddings\n",
        "gru_model = Sequential()\n",
        "gru_model.add(Embedding(input_dim=len(word_index) + 1, output_dim=embedding_dim, weights=[embedding_matrix], input_length=max_length, trainable=False))\n",
        "gru_model.add(GRU(128))\n",
        "gru_model.add(Dense(1, activation='sigmoid'))\n",
        "\n",
        "# Compile the model\n",
        "gru_model.compile(optimizer='adam', loss='binary_crossentropy', metrics=['accuracy'])\n",
        "\n",
        "# Display the model summary\n",
        "print(gru_model.summary())\n",
        "\n",
        "# Train the model\n",
        "gru_history = gru_model.fit(X_train_padded, y_train, epochs=10, batch_size=64, validation_split=0.2)\n",
        "\n",
        "# Evaluate the model on the test set\n",
        "gru_loss, gru_accuracy = gru_model.evaluate(X_test_padded, y_test)\n",
        "print(\"GRU Test Loss:\", gru_loss)\n",
        "print(\"GRU Test Accuracy:\", gru_accuracy)\n",
        "\n",
        "# Plot training history\n",
        "plt.plot(gru_history.history['accuracy'], label='GRU Training Accuracy')\n",
        "plt.plot(gru_history.history['val_accuracy'], label='GRU Validation Accuracy')\n",
        "plt.xlabel('Epoch')\n",
        "plt.ylabel('Accuracy')\n",
        "plt.legend()\n",
        "plt.show()"
      ],
      "metadata": {
        "colab": {
          "base_uri": "https://localhost:8080/",
          "height": 1000
        },
        "id": "zWHcK6jfbW44",
        "outputId": "7b57c6d0-3881-4f8b-8a54-a4a3867c7335"
      },
      "execution_count": null,
      "outputs": [
        {
          "output_type": "stream",
          "name": "stdout",
          "text": [
            "Model: \"sequential_4\"\n",
            "_________________________________________________________________\n",
            " Layer (type)                Output Shape              Param #   \n",
            "=================================================================\n",
            " embedding_4 (Embedding)     (None, 100, 100)          3342000   \n",
            "                                                                 \n",
            " gru_2 (GRU)                 (None, 128)               88320     \n",
            "                                                                 \n",
            " dense_4 (Dense)             (None, 1)                 129       \n",
            "                                                                 \n",
            "=================================================================\n",
            "Total params: 3430449 (13.09 MB)\n",
            "Trainable params: 88449 (345.50 KB)\n",
            "Non-trainable params: 3342000 (12.75 MB)\n",
            "_________________________________________________________________\n",
            "None\n",
            "Epoch 1/10\n",
            "441/441 [==============================] - 115s 250ms/step - loss: 0.4455 - accuracy: 0.8020 - val_loss: 0.2150 - val_accuracy: 0.9138\n",
            "Epoch 2/10\n",
            "441/441 [==============================] - 115s 261ms/step - loss: 0.1968 - accuracy: 0.9219 - val_loss: 0.1880 - val_accuracy: 0.9269\n",
            "Epoch 3/10\n",
            "441/441 [==============================] - 114s 258ms/step - loss: 0.1665 - accuracy: 0.9342 - val_loss: 0.1575 - val_accuracy: 0.9375\n",
            "Epoch 4/10\n",
            "441/441 [==============================] - 121s 274ms/step - loss: 0.1477 - accuracy: 0.9415 - val_loss: 0.1523 - val_accuracy: 0.9400\n",
            "Epoch 5/10\n",
            "441/441 [==============================] - 120s 273ms/step - loss: 0.1355 - accuracy: 0.9471 - val_loss: 0.1441 - val_accuracy: 0.9453\n",
            "Epoch 6/10\n",
            "441/441 [==============================] - 128s 291ms/step - loss: 0.1216 - accuracy: 0.9528 - val_loss: 0.1448 - val_accuracy: 0.9429\n",
            "Epoch 7/10\n",
            "441/441 [==============================] - 126s 287ms/step - loss: 0.1113 - accuracy: 0.9580 - val_loss: 0.1451 - val_accuracy: 0.9453\n",
            "Epoch 8/10\n",
            "441/441 [==============================] - 117s 264ms/step - loss: 0.1015 - accuracy: 0.9607 - val_loss: 0.1433 - val_accuracy: 0.9480\n",
            "Epoch 9/10\n",
            "441/441 [==============================] - 124s 281ms/step - loss: 0.0861 - accuracy: 0.9680 - val_loss: 0.1812 - val_accuracy: 0.9383\n",
            "Epoch 10/10\n",
            "441/441 [==============================] - 124s 282ms/step - loss: 0.0764 - accuracy: 0.9718 - val_loss: 0.1747 - val_accuracy: 0.9484\n",
            "276/276 [==============================] - 11s 39ms/step - loss: 0.1739 - accuracy: 0.9426\n",
            "GRU Test Loss: 0.17391139268875122\n",
            "GRU Test Accuracy: 0.9426238536834717\n"
          ]
        },
        {
          "output_type": "display_data",
          "data": {
            "text/plain": [
              "<Figure size 640x480 with 1 Axes>"
            ],
            "image/png": "[encoded data removed]"
          },
          "metadata": {}
        }
      ]
    },
    {
      "cell_type": "code",
      "source": [
        "# Code cell 6\n",
        "# Build the LSTM model with pre-trained GloVe embedding\n",
        "model_lstm_glove = Sequential()\n",
        "model_lstm_glove.add(Embedding(input_dim=len(word_index) + 1, output_dim=embedding_dim, weights=[embedding_matrix], input_length=max_length, trainable=False))\n",
        "model_lstm_glove.add(LSTM(128))\n",
        "model_lstm_glove.add(Dense(1, activation='sigmoid'))\n",
        "\n",
        "# Compile the model\n",
        "model_lstm_glove.compile(optimizer='adam', loss='binary_crossentropy', metrics=['accuracy'])\n",
        "\n",
        "# Display the model summary\n",
        "print(model_lstm_glove.summary())\n",
        "\n",
        "# Train the model\n",
        "history_lstm_glove = model_lstm_glove.fit(X_train_padded, y_train, epochs=10, batch_size=64, validation_split=0.2)\n",
        "\n",
        "# Evaluate the model on the test set\n",
        "loss_lstm_glove, accuracy_lstm_glove = model_lstm_glove.evaluate(X_test_padded, y_test)\n",
        "print(\"Test Loss (LSTM with GloVe):\", loss_lstm_glove)\n",
        "print(\"Test Accuracy (LSTM with GloVe):\", accuracy_lstm_glove)"
      ],
      "metadata": {
        "colab": {
          "base_uri": "https://localhost:8080/"
        },
        "id": "qrL1lH9KNnLR",
        "outputId": "b051dd72-670b-4fa6-aa8f-ec04931d330c"
      },
      "execution_count": null,
      "outputs": [
        {
          "output_type": "stream",
          "name": "stdout",
          "text": [
            "Model: \"sequential_1\"\n",
            "_________________________________________________________________\n",
            " Layer (type)                Output Shape              Param #   \n",
            "=================================================================\n",
            " embedding_1 (Embedding)     (None, 100, 100)          3342000   \n",
            "                                                                 \n",
            " lstm (LSTM)                 (None, 128)               117248    \n",
            "                                                                 \n",
            " dense_1 (Dense)             (None, 1)                 129       \n",
            "                                                                 \n",
            "=================================================================\n",
            "Total params: 3459377 (13.20 MB)\n",
            "Trainable params: 117377 (458.50 KB)\n",
            "Non-trainable params: 3342000 (12.75 MB)\n",
            "_________________________________________________________________\n",
            "None\n",
            "Epoch 1/10\n",
            "441/441 [==============================] - 141s 313ms/step - loss: 0.5483 - accuracy: 0.7423 - val_loss: 1.1385 - val_accuracy: 0.2727\n",
            "Epoch 2/10\n",
            "441/441 [==============================] - 144s 327ms/step - loss: 0.5687 - accuracy: 0.7261 - val_loss: 0.4860 - val_accuracy: 0.7714\n",
            "Epoch 3/10\n",
            "441/441 [==============================] - 141s 321ms/step - loss: 0.3080 - accuracy: 0.8709 - val_loss: 0.2126 - val_accuracy: 0.9165\n",
            "Epoch 4/10\n",
            "441/441 [==============================] - 133s 302ms/step - loss: 0.2028 - accuracy: 0.9193 - val_loss: 0.1830 - val_accuracy: 0.9281\n",
            "Epoch 5/10\n",
            "441/441 [==============================] - 133s 302ms/step - loss: 0.1808 - accuracy: 0.9289 - val_loss: 0.1731 - val_accuracy: 0.9327\n",
            "Epoch 6/10\n",
            "441/441 [==============================] - 132s 300ms/step - loss: 0.1681 - accuracy: 0.9338 - val_loss: 0.1668 - val_accuracy: 0.9352\n",
            "Epoch 7/10\n",
            "441/441 [==============================] - 131s 297ms/step - loss: 0.1586 - accuracy: 0.9376 - val_loss: 0.1702 - val_accuracy: 0.9325\n",
            "Epoch 8/10\n",
            "441/441 [==============================] - 137s 311ms/step - loss: 0.1528 - accuracy: 0.9393 - val_loss: 0.1629 - val_accuracy: 0.9365\n",
            "Epoch 9/10\n",
            "441/441 [==============================] - 139s 315ms/step - loss: 0.1457 - accuracy: 0.9432 - val_loss: 0.1636 - val_accuracy: 0.9359\n",
            "Epoch 10/10\n",
            "441/441 [==============================] - 138s 313ms/step - loss: 0.1374 - accuracy: 0.9459 - val_loss: 0.1630 - val_accuracy: 0.9355\n",
            "276/276 [==============================] - 18s 64ms/step - loss: 0.1616 - accuracy: 0.9341\n",
            "Test Loss (LSTM with GloVe): 0.16162700951099396\n",
            "Test Accuracy (LSTM with GloVe): 0.9341195225715637\n"
          ]
        }
      ]
    },
    {
      "cell_type": "code",
      "source": [
        "# Code cell 7\n",
        "# Build the GRU model with trainable embeddings\n",
        "model_gru_trainable = Sequential()\n",
        "model_gru_trainable.add(Embedding(input_dim=len(word_index) + 1, output_dim=embedding_dim, input_length=max_length, trainable=True))\n",
        "model_gru_trainable.add(GRU(128))\n",
        "model_gru_trainable.add(Dense(1, activation='sigmoid'))\n",
        "\n",
        "# Compile the model\n",
        "model_gru_trainable.compile(optimizer='adam', loss='binary_crossentropy', metrics=['accuracy'])\n",
        "\n",
        "# Display the model summary\n",
        "print(model_gru_trainable.summary())\n",
        "\n",
        "# Train the model\n",
        "history_gru_trainable = model_gru_trainable.fit(X_train_padded, y_train, epochs=10, batch_size=64, validation_split=0.2)\n",
        "\n",
        "# Evaluate the model on the test set\n",
        "loss_gru_trainable, accuracy_gru_trainable = model_gru_trainable.evaluate(X_test_padded, y_test)\n",
        "print(\"Test Loss (GRU with Trainable Embeddings):\", loss_gru_trainable)\n",
        "print(\"Test Accuracy (GRU with Trainable Embeddings):\", accuracy_gru_trainable)"
      ],
      "metadata": {
        "colab": {
          "base_uri": "https://localhost:8080/"
        },
        "id": "IOTMv-fqS3LV",
        "outputId": "34bef476-581c-4e5c-9f4e-2cfea4e42ba7"
      },
      "execution_count": null,
      "outputs": [
        {
          "output_type": "stream",
          "name": "stdout",
          "text": [
            "Model: \"sequential_2\"\n",
            "_________________________________________________________________\n",
            " Layer (type)                Output Shape              Param #   \n",
            "=================================================================\n",
            " embedding_2 (Embedding)     (None, 100, 100)          3342000   \n",
            "                                                                 \n",
            " gru_1 (GRU)                 (None, 128)               88320     \n",
            "                                                                 \n",
            " dense_2 (Dense)             (None, 1)                 129       \n",
            "                                                                 \n",
            "=================================================================\n",
            "Total params: 3430449 (13.09 MB)\n",
            "Trainable params: 3430449 (13.09 MB)\n",
            "Non-trainable params: 0 (0.00 Byte)\n",
            "_________________________________________________________________\n",
            "None\n",
            "Epoch 1/10\n",
            "441/441 [==============================] - 176s 393ms/step - loss: 0.4967 - accuracy: 0.7839 - val_loss: 0.3842 - val_accuracy: 0.8529\n",
            "Epoch 2/10\n",
            "441/441 [==============================] - 154s 349ms/step - loss: 0.2592 - accuracy: 0.9025 - val_loss: 0.1963 - val_accuracy: 0.9274\n",
            "Epoch 3/10\n",
            "441/441 [==============================] - 161s 367ms/step - loss: 0.1270 - accuracy: 0.9533 - val_loss: 0.1422 - val_accuracy: 0.9454\n",
            "Epoch 4/10\n",
            "441/441 [==============================] - 154s 350ms/step - loss: 0.0805 - accuracy: 0.9729 - val_loss: 0.1540 - val_accuracy: 0.9461\n",
            "Epoch 5/10\n",
            "441/441 [==============================] - 160s 363ms/step - loss: 0.0509 - accuracy: 0.9848 - val_loss: 0.1636 - val_accuracy: 0.9432\n",
            "Epoch 6/10\n",
            "441/441 [==============================] - 169s 383ms/step - loss: 0.0303 - accuracy: 0.9910 - val_loss: 0.2209 - val_accuracy: 0.9405\n",
            "Epoch 7/10\n",
            "441/441 [==============================] - 154s 350ms/step - loss: 0.0185 - accuracy: 0.9950 - val_loss: 0.2533 - val_accuracy: 0.9375\n",
            "Epoch 8/10\n",
            "441/441 [==============================] - 157s 356ms/step - loss: 0.0128 - accuracy: 0.9964 - val_loss: 0.2597 - val_accuracy: 0.9355\n",
            "Epoch 9/10\n",
            "441/441 [==============================] - 168s 381ms/step - loss: 0.0099 - accuracy: 0.9971 - val_loss: 0.2847 - val_accuracy: 0.9369\n",
            "Epoch 10/10\n",
            "441/441 [==============================] - 167s 378ms/step - loss: 0.0083 - accuracy: 0.9977 - val_loss: 0.2815 - val_accuracy: 0.9352\n",
            "276/276 [==============================] - 8s 30ms/step - loss: 0.2645 - accuracy: 0.9374\n",
            "Test Loss (GRU with Trainable Embeddings): 0.2645162045955658\n",
            "Test Accuracy (GRU with Trainable Embeddings): 0.9374078512191772\n"
          ]
        }
      ]
    },
    {
      "cell_type": "code",
      "source": [
        "# Code cell 8\n",
        "# Build the LSTM model with trainable embeddings\n",
        "model_lstm_trainable = Sequential()\n",
        "model_lstm_trainable.add(Embedding(input_dim=len(word_index) + 1, output_dim=embedding_dim, input_length=max_length, trainable=True))\n",
        "model_lstm_trainable.add(LSTM(128))  # You can adjust the number of LSTM units based on your needs\n",
        "model_lstm_trainable.add(Dense(1, activation='sigmoid'))\n",
        "\n",
        "# Compile the model\n",
        "model_lstm_trainable.compile(optimizer='adam', loss='binary_crossentropy', metrics=['accuracy'])\n",
        "\n",
        "# Display the model summary\n",
        "print(model_lstm_trainable.summary())\n",
        "\n",
        "# Train the model\n",
        "history_lstm_trainable = model_lstm_trainable.fit(X_train_padded, y_train, epochs=10, batch_size=64, validation_split=0.2)\n",
        "\n",
        "# Evaluate the model on the test set\n",
        "loss_lstm_trainable, accuracy_lstm_trainable = model_lstm_trainable.evaluate(X_test_padded, y_test)\n",
        "print(\"Test Loss (LSTM with Trainable Embeddings):\", loss_lstm_trainable)\n",
        "print(\"Test Accuracy (LSTM with Trainable Embeddings):\", accuracy_lstm_trainable)"
      ],
      "metadata": {
        "colab": {
          "base_uri": "https://localhost:8080/"
        },
        "id": "2NTtJTm7Uaku",
        "outputId": "6155d1d2-9481-4860-a8d1-5d446e581ab4"
      },
      "execution_count": null,
      "outputs": [
        {
          "output_type": "stream",
          "name": "stdout",
          "text": [
            "Model: \"sequential_3\"\n",
            "_________________________________________________________________\n",
            " Layer (type)                Output Shape              Param #   \n",
            "=================================================================\n",
            " embedding_3 (Embedding)     (None, 100, 100)          3342000   \n",
            "                                                                 \n",
            " lstm_1 (LSTM)               (None, 128)               117248    \n",
            "                                                                 \n",
            " dense_3 (Dense)             (None, 1)                 129       \n",
            "                                                                 \n",
            "=================================================================\n",
            "Total params: 3459377 (13.20 MB)\n",
            "Trainable params: 3459377 (13.20 MB)\n",
            "Non-trainable params: 0 (0.00 Byte)\n",
            "_________________________________________________________________\n",
            "None\n",
            "Epoch 1/10\n",
            "441/441 [==============================] - 182s 404ms/step - loss: 0.4735 - accuracy: 0.7727 - val_loss: 0.4886 - val_accuracy: 0.7938\n",
            "Epoch 2/10\n",
            "441/441 [==============================] - 190s 431ms/step - loss: 0.4773 - accuracy: 0.7932 - val_loss: 0.5550 - val_accuracy: 0.7467\n",
            "Epoch 3/10\n",
            "441/441 [==============================] - 184s 416ms/step - loss: 0.4466 - accuracy: 0.7966 - val_loss: 0.3271 - val_accuracy: 0.8771\n",
            "Epoch 4/10\n",
            "441/441 [==============================] - 177s 401ms/step - loss: 0.2127 - accuracy: 0.9234 - val_loss: 0.1854 - val_accuracy: 0.9320\n",
            "Epoch 5/10\n",
            "441/441 [==============================] - 184s 418ms/step - loss: 0.1164 - accuracy: 0.9596 - val_loss: 0.1560 - val_accuracy: 0.9433\n",
            "Epoch 6/10\n",
            "441/441 [==============================] - 182s 413ms/step - loss: 0.0802 - accuracy: 0.9732 - val_loss: 0.1628 - val_accuracy: 0.9463\n",
            "Epoch 7/10\n",
            "441/441 [==============================] - 185s 419ms/step - loss: 0.0542 - accuracy: 0.9838 - val_loss: 0.1704 - val_accuracy: 0.9443\n",
            "Epoch 8/10\n",
            "441/441 [==============================] - 184s 418ms/step - loss: 0.0358 - accuracy: 0.9908 - val_loss: 0.1994 - val_accuracy: 0.9420\n",
            "Epoch 9/10\n",
            "441/441 [==============================] - 190s 431ms/step - loss: 0.0283 - accuracy: 0.9925 - val_loss: 0.2136 - val_accuracy: 0.9399\n",
            "Epoch 10/10\n",
            "441/441 [==============================] - 175s 398ms/step - loss: 0.0216 - accuracy: 0.9943 - val_loss: 0.2339 - val_accuracy: 0.9391\n",
            "276/276 [==============================] - 24s 85ms/step - loss: 0.2462 - accuracy: 0.9374\n",
            "Test Loss (LSTM with Trainable Embeddings): 0.246173694729805\n",
            "Test Accuracy (LSTM with Trainable Embeddings): 0.9374078512191772\n"
          ]
        }
      ]
    },
    {
      "cell_type": "code",
      "source": [
        "# Code cell 9\n",
        "from sklearn.feature_extraction.text import TfidfVectorizer\n",
        "from sklearn.svm import SVC\n",
        "from sklearn.metrics import accuracy_score, classification_report\n",
        "\n",
        "# Use TF-IDF vectorizer\n",
        "tfidf_vectorizer = TfidfVectorizer(max_features=5000)\n",
        "X_train_tfidf = tfidf_vectorizer.fit_transform(X_train)\n",
        "X_test_tfidf = tfidf_vectorizer.transform(X_test)\n",
        "\n",
        "# Build and train SVM model\n",
        "svm_model_tfidf = SVC(kernel='linear')\n",
        "svm_model_tfidf.fit(X_train_tfidf, y_train)\n",
        "\n",
        "# Predictions on the test set\n",
        "svm_tfidf_predictions = svm_model_tfidf.predict(X_test_tfidf)\n",
        "\n",
        "# Evaluate the model performance\n",
        "accuracy_svm_tfidf = accuracy_score(y_test, svm_tfidf_predictions)\n",
        "classification_report_svm_tfidf = classification_report(y_test, svm_tfidf_predictions)\n",
        "\n",
        "# Display performance metrics\n",
        "print(\"SVM with TF-IDF Performance:\")\n",
        "print(\"Accuracy:\", accuracy_svm_tfidf)\n",
        "print(\"\\nClassification Report:\\n\", classification_report_svm_tfidf)"
      ],
      "metadata": {
        "colab": {
          "base_uri": "https://localhost:8080/"
        },
        "id": "0-bHr1EHjIn7",
        "outputId": "0f5488e8-2a03-4b2a-b894-1bb2f0f591b4"
      },
      "execution_count": null,
      "outputs": [
        {
          "output_type": "stream",
          "name": "stdout",
          "text": [
            "SVM with TF-IDF Performance:\n",
            "Accuracy: 0.9586120875382697\n",
            "\n",
            "Classification Report:\n",
            "               precision    recall  f1-score   support\n",
            "\n",
            "           0       0.93      0.93      0.93      2554\n",
            "           1       0.97      0.97      0.97      6265\n",
            "\n",
            "    accuracy                           0.96      8819\n",
            "   macro avg       0.95      0.95      0.95      8819\n",
            "weighted avg       0.96      0.96      0.96      8819\n",
            "\n"
          ]
        }
      ]
    },
    {
      "cell_type": "markdown",
      "source": [
        "GRU with Pre-trained GloVe Embeddings:\n",
        "\n",
        "Test Accuracy: 94.26%\n",
        "\n",
        "Parameters: 3,430,449 (88,449 trainable)\n",
        "\n",
        "Stable increase in training and validation accuracy over epochs.\n",
        "\n",
        "LSTM with Pre-trained GloVe Embeddings:\n",
        "\n",
        "Test Accuracy: 93.41%\n",
        "\n",
        "Parameters: 3,459,377 (117,377 trainable)\n",
        "\n",
        "Similar performance to GRU with pre-trained embeddings.\n",
        "\n",
        "GRU with Trainable Embeddings:\n",
        "\n",
        "Test Accuracy: 93.74%\n",
        "\n",
        "Parameters: 3,430,449 (all trainable)\n",
        "\n",
        "Slightly fluctuating validation accuracy during training.\n",
        "\n",
        "LSTM with Trainable Embeddings:\n",
        "\n",
        "Test Accuracy: 93.74%\n",
        "\n",
        "Parameters: 3,459,377 (all trainable)\n",
        "\n",
        "Similar performance to GRU with trainable embeddings.\n",
        "\n",
        "SVM with TF-IDF:\n",
        "\n",
        "Accuracy: 95.86%\n",
        "\n",
        "Outperformed deep learning models in accuracy.\n",
        "\n",
        "Comments:\n",
        "\n",
        "Pre-trained embeddings provided a good start.\n",
        "\n",
        "No significant difference between GRU and LSTM.\n",
        "\n",
        "SVM with TF-IDF outperformed deep learning models in accuracy.\n",
        "\n",
        "Consider computational resources and dataset characteristics when choosing models."
      ],
      "metadata": {
        "id": "JSZlML5ytuM2"
      }
    }
  ]
}