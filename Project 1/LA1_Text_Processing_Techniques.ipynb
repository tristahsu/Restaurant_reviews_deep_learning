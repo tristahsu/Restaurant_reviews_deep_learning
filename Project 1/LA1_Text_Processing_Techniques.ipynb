{
  "nbformat": 4,
  "nbformat_minor": 0,
  "metadata": {
    "colab": {
      "provenance": []
    },
    "kernelspec": {
      "name": "python3",
      "display_name": "Python 3"
    },
    "language_info": {
      "name": "python"
    }
  },
  "cells": [
    {
      "cell_type": "code",
      "execution_count": null,
      "metadata": {
        "colab": {
          "base_uri": "https://localhost:8080/"
        },
        "id": "MMuxJaX7wBjb",
        "outputId": "b204730e-4eb4-46ac-9400-7ea638ef9c6d"
      },
      "outputs": [
        {
          "output_type": "stream",
          "name": "stdout",
          "text": [
            "Mounted at /content/drive\n"
          ]
        }
      ],
      "source": [
        "from google.colab import drive\n",
        "drive.mount('/content/drive')"
      ]
    },
    {
      "cell_type": "code",
      "source": [
        "!pip install spacy\n",
        "!pip install nltk"
      ],
      "metadata": {
        "colab": {
          "base_uri": "https://localhost:8080/"
        },
        "id": "TO5fRzL4q5ox",
        "outputId": "ae2ed317-763f-4e83-91c5-a36658cd89e0"
      },
      "execution_count": null,
      "outputs": [
        {
          "output_type": "stream",
          "name": "stdout",
          "text": [
            "Requirement already satisfied: spacy in /usr/local/lib/python3.10/dist-packages (3.6.1)\n",
            "Requirement already satisfied: spacy-legacy<3.1.0,>=3.0.11 in /usr/local/lib/python3.10/dist-packages (from spacy) (3.0.12)\n",
            "Requirement already satisfied: spacy-loggers<2.0.0,>=1.0.0 in /usr/local/lib/python3.10/dist-packages (from spacy) (1.0.5)\n",
            "Requirement already satisfied: murmurhash<1.1.0,>=0.28.0 in /usr/local/lib/python3.10/dist-packages (from spacy) (1.0.10)\n",
            "Requirement already satisfied: cymem<2.1.0,>=2.0.2 in /usr/local/lib/python3.10/dist-packages (from spacy) (2.0.8)\n",
            "Requirement already satisfied: preshed<3.1.0,>=3.0.2 in /usr/local/lib/python3.10/dist-packages (from spacy) (3.0.9)\n",
            "Requirement already satisfied: thinc<8.2.0,>=8.1.8 in /usr/local/lib/python3.10/dist-packages (from spacy) (8.1.12)\n",
            "Requirement already satisfied: wasabi<1.2.0,>=0.9.1 in /usr/local/lib/python3.10/dist-packages (from spacy) (1.1.2)\n",
            "Requirement already satisfied: srsly<3.0.0,>=2.4.3 in /usr/local/lib/python3.10/dist-packages (from spacy) (2.4.8)\n",
            "Requirement already satisfied: catalogue<2.1.0,>=2.0.6 in /usr/local/lib/python3.10/dist-packages (from spacy) (2.0.10)\n",
            "Requirement already satisfied: typer<0.10.0,>=0.3.0 in /usr/local/lib/python3.10/dist-packages (from spacy) (0.9.0)\n",
            "Requirement already satisfied: pathy>=0.10.0 in /usr/local/lib/python3.10/dist-packages (from spacy) (0.11.0)\n",
            "Requirement already satisfied: smart-open<7.0.0,>=5.2.1 in /usr/local/lib/python3.10/dist-packages (from spacy) (6.4.0)\n",
            "Requirement already satisfied: tqdm<5.0.0,>=4.38.0 in /usr/local/lib/python3.10/dist-packages (from spacy) (4.66.1)\n",
            "Requirement already satisfied: numpy>=1.15.0 in /usr/local/lib/python3.10/dist-packages (from spacy) (1.23.5)\n",
            "Requirement already satisfied: requests<3.0.0,>=2.13.0 in /usr/local/lib/python3.10/dist-packages (from spacy) (2.31.0)\n",
            "Requirement already satisfied: pydantic!=1.8,!=1.8.1,<3.0.0,>=1.7.4 in /usr/local/lib/python3.10/dist-packages (from spacy) (1.10.13)\n",
            "Requirement already satisfied: jinja2 in /usr/local/lib/python3.10/dist-packages (from spacy) (3.1.3)\n",
            "Requirement already satisfied: setuptools in /usr/local/lib/python3.10/dist-packages (from spacy) (67.7.2)\n",
            "Requirement already satisfied: packaging>=20.0 in /usr/local/lib/python3.10/dist-packages (from spacy) (23.2)\n",
            "Requirement already satisfied: langcodes<4.0.0,>=3.2.0 in /usr/local/lib/python3.10/dist-packages (from spacy) (3.3.0)\n",
            "Requirement already satisfied: pathlib-abc==0.1.1 in /usr/local/lib/python3.10/dist-packages (from pathy>=0.10.0->spacy) (0.1.1)\n",
            "Requirement already satisfied: typing-extensions>=4.2.0 in /usr/local/lib/python3.10/dist-packages (from pydantic!=1.8,!=1.8.1,<3.0.0,>=1.7.4->spacy) (4.5.0)\n",
            "Requirement already satisfied: charset-normalizer<4,>=2 in /usr/local/lib/python3.10/dist-packages (from requests<3.0.0,>=2.13.0->spacy) (3.3.2)\n",
            "Requirement already satisfied: idna<4,>=2.5 in /usr/local/lib/python3.10/dist-packages (from requests<3.0.0,>=2.13.0->spacy) (3.6)\n",
            "Requirement already satisfied: urllib3<3,>=1.21.1 in /usr/local/lib/python3.10/dist-packages (from requests<3.0.0,>=2.13.0->spacy) (2.0.7)\n",
            "Requirement already satisfied: certifi>=2017.4.17 in /usr/local/lib/python3.10/dist-packages (from requests<3.0.0,>=2.13.0->spacy) (2023.11.17)\n",
            "Requirement already satisfied: blis<0.8.0,>=0.7.8 in /usr/local/lib/python3.10/dist-packages (from thinc<8.2.0,>=8.1.8->spacy) (0.7.11)\n",
            "Requirement already satisfied: confection<1.0.0,>=0.0.1 in /usr/local/lib/python3.10/dist-packages (from thinc<8.2.0,>=8.1.8->spacy) (0.1.4)\n",
            "Requirement already satisfied: click<9.0.0,>=7.1.1 in /usr/local/lib/python3.10/dist-packages (from typer<0.10.0,>=0.3.0->spacy) (8.1.7)\n",
            "Requirement already satisfied: MarkupSafe>=2.0 in /usr/local/lib/python3.10/dist-packages (from jinja2->spacy) (2.1.3)\n",
            "Requirement already satisfied: nltk in /usr/local/lib/python3.10/dist-packages (3.8.1)\n",
            "Requirement already satisfied: click in /usr/local/lib/python3.10/dist-packages (from nltk) (8.1.7)\n",
            "Requirement already satisfied: joblib in /usr/local/lib/python3.10/dist-packages (from nltk) (1.3.2)\n",
            "Requirement already satisfied: regex>=2021.8.3 in /usr/local/lib/python3.10/dist-packages (from nltk) (2023.6.3)\n",
            "Requirement already satisfied: tqdm in /usr/local/lib/python3.10/dist-packages (from nltk) (4.66.1)\n"
          ]
        }
      ]
    },
    {
      "cell_type": "code",
      "source": [
        "!python -m spacy download en_core_web_lg"
      ],
      "metadata": {
        "colab": {
          "base_uri": "https://localhost:8080/"
        },
        "id": "bAjebd4Z7oVE",
        "outputId": "11621728-3f12-4193-8a51-1c2187a835c2"
      },
      "execution_count": null,
      "outputs": [
        {
          "output_type": "stream",
          "name": "stdout",
          "text": [
            "2024-01-21 19:04:39.319450: E external/local_xla/xla/stream_executor/cuda/cuda_dnn.cc:9261] Unable to register cuDNN factory: Attempting to register factory for plugin cuDNN when one has already been registered\n",
            "2024-01-21 19:04:39.319536: E external/local_xla/xla/stream_executor/cuda/cuda_fft.cc:607] Unable to register cuFFT factory: Attempting to register factory for plugin cuFFT when one has already been registered\n",
            "2024-01-21 19:04:39.321647: E external/local_xla/xla/stream_executor/cuda/cuda_blas.cc:1515] Unable to register cuBLAS factory: Attempting to register factory for plugin cuBLAS when one has already been registered\n",
            "2024-01-21 19:04:39.334726: I tensorflow/core/platform/cpu_feature_guard.cc:182] This TensorFlow binary is optimized to use available CPU instructions in performance-critical operations.\n",
            "To enable the following instructions: AVX2 FMA, in other operations, rebuild TensorFlow with the appropriate compiler flags.\n",
            "2024-01-21 19:04:41.163748: W tensorflow/compiler/tf2tensorrt/utils/py_utils.cc:38] TF-TRT Warning: Could not find TensorRT\n",
            "Collecting en-core-web-lg==3.6.0\n",
            "  Downloading https://github.com/explosion/spacy-models/releases/download/en_core_web_lg-3.6.0/en_core_web_lg-3.6.0-py3-none-any.whl (587.7 MB)\n",
            "\u001b[2K     \u001b[90m━━━━━━━━━━━━━━━━━━━━━━━━━━━━━━━━━━━━━━━━\u001b[0m \u001b[32m587.7/587.7 MB\u001b[0m \u001b[31m2.3 MB/s\u001b[0m eta \u001b[36m0:00:00\u001b[0m\n",
            "\u001b[?25hRequirement already satisfied: spacy<3.7.0,>=3.6.0 in /usr/local/lib/python3.10/dist-packages (from en-core-web-lg==3.6.0) (3.6.1)\n",
            "Requirement already satisfied: spacy-legacy<3.1.0,>=3.0.11 in /usr/local/lib/python3.10/dist-packages (from spacy<3.7.0,>=3.6.0->en-core-web-lg==3.6.0) (3.0.12)\n",
            "Requirement already satisfied: spacy-loggers<2.0.0,>=1.0.0 in /usr/local/lib/python3.10/dist-packages (from spacy<3.7.0,>=3.6.0->en-core-web-lg==3.6.0) (1.0.5)\n",
            "Requirement already satisfied: murmurhash<1.1.0,>=0.28.0 in /usr/local/lib/python3.10/dist-packages (from spacy<3.7.0,>=3.6.0->en-core-web-lg==3.6.0) (1.0.10)\n",
            "Requirement already satisfied: cymem<2.1.0,>=2.0.2 in /usr/local/lib/python3.10/dist-packages (from spacy<3.7.0,>=3.6.0->en-core-web-lg==3.6.0) (2.0.8)\n",
            "Requirement already satisfied: preshed<3.1.0,>=3.0.2 in /usr/local/lib/python3.10/dist-packages (from spacy<3.7.0,>=3.6.0->en-core-web-lg==3.6.0) (3.0.9)\n",
            "Requirement already satisfied: thinc<8.2.0,>=8.1.8 in /usr/local/lib/python3.10/dist-packages (from spacy<3.7.0,>=3.6.0->en-core-web-lg==3.6.0) (8.1.12)\n",
            "Requirement already satisfied: wasabi<1.2.0,>=0.9.1 in /usr/local/lib/python3.10/dist-packages (from spacy<3.7.0,>=3.6.0->en-core-web-lg==3.6.0) (1.1.2)\n",
            "Requirement already satisfied: srsly<3.0.0,>=2.4.3 in /usr/local/lib/python3.10/dist-packages (from spacy<3.7.0,>=3.6.0->en-core-web-lg==3.6.0) (2.4.8)\n",
            "Requirement already satisfied: catalogue<2.1.0,>=2.0.6 in /usr/local/lib/python3.10/dist-packages (from spacy<3.7.0,>=3.6.0->en-core-web-lg==3.6.0) (2.0.10)\n",
            "Requirement already satisfied: typer<0.10.0,>=0.3.0 in /usr/local/lib/python3.10/dist-packages (from spacy<3.7.0,>=3.6.0->en-core-web-lg==3.6.0) (0.9.0)\n",
            "Requirement already satisfied: pathy>=0.10.0 in /usr/local/lib/python3.10/dist-packages (from spacy<3.7.0,>=3.6.0->en-core-web-lg==3.6.0) (0.11.0)\n",
            "Requirement already satisfied: smart-open<7.0.0,>=5.2.1 in /usr/local/lib/python3.10/dist-packages (from spacy<3.7.0,>=3.6.0->en-core-web-lg==3.6.0) (6.4.0)\n",
            "Requirement already satisfied: tqdm<5.0.0,>=4.38.0 in /usr/local/lib/python3.10/dist-packages (from spacy<3.7.0,>=3.6.0->en-core-web-lg==3.6.0) (4.66.1)\n",
            "Requirement already satisfied: numpy>=1.15.0 in /usr/local/lib/python3.10/dist-packages (from spacy<3.7.0,>=3.6.0->en-core-web-lg==3.6.0) (1.23.5)\n",
            "Requirement already satisfied: requests<3.0.0,>=2.13.0 in /usr/local/lib/python3.10/dist-packages (from spacy<3.7.0,>=3.6.0->en-core-web-lg==3.6.0) (2.31.0)\n",
            "Requirement already satisfied: pydantic!=1.8,!=1.8.1,<3.0.0,>=1.7.4 in /usr/local/lib/python3.10/dist-packages (from spacy<3.7.0,>=3.6.0->en-core-web-lg==3.6.0) (1.10.13)\n",
            "Requirement already satisfied: jinja2 in /usr/local/lib/python3.10/dist-packages (from spacy<3.7.0,>=3.6.0->en-core-web-lg==3.6.0) (3.1.3)\n",
            "Requirement already satisfied: setuptools in /usr/local/lib/python3.10/dist-packages (from spacy<3.7.0,>=3.6.0->en-core-web-lg==3.6.0) (67.7.2)\n",
            "Requirement already satisfied: packaging>=20.0 in /usr/local/lib/python3.10/dist-packages (from spacy<3.7.0,>=3.6.0->en-core-web-lg==3.6.0) (23.2)\n",
            "Requirement already satisfied: langcodes<4.0.0,>=3.2.0 in /usr/local/lib/python3.10/dist-packages (from spacy<3.7.0,>=3.6.0->en-core-web-lg==3.6.0) (3.3.0)\n",
            "Requirement already satisfied: pathlib-abc==0.1.1 in /usr/local/lib/python3.10/dist-packages (from pathy>=0.10.0->spacy<3.7.0,>=3.6.0->en-core-web-lg==3.6.0) (0.1.1)\n",
            "Requirement already satisfied: typing-extensions>=4.2.0 in /usr/local/lib/python3.10/dist-packages (from pydantic!=1.8,!=1.8.1,<3.0.0,>=1.7.4->spacy<3.7.0,>=3.6.0->en-core-web-lg==3.6.0) (4.5.0)\n",
            "Requirement already satisfied: charset-normalizer<4,>=2 in /usr/local/lib/python3.10/dist-packages (from requests<3.0.0,>=2.13.0->spacy<3.7.0,>=3.6.0->en-core-web-lg==3.6.0) (3.3.2)\n",
            "Requirement already satisfied: idna<4,>=2.5 in /usr/local/lib/python3.10/dist-packages (from requests<3.0.0,>=2.13.0->spacy<3.7.0,>=3.6.0->en-core-web-lg==3.6.0) (3.6)\n",
            "Requirement already satisfied: urllib3<3,>=1.21.1 in /usr/local/lib/python3.10/dist-packages (from requests<3.0.0,>=2.13.0->spacy<3.7.0,>=3.6.0->en-core-web-lg==3.6.0) (2.0.7)\n",
            "Requirement already satisfied: certifi>=2017.4.17 in /usr/local/lib/python3.10/dist-packages (from requests<3.0.0,>=2.13.0->spacy<3.7.0,>=3.6.0->en-core-web-lg==3.6.0) (2023.11.17)\n",
            "Requirement already satisfied: blis<0.8.0,>=0.7.8 in /usr/local/lib/python3.10/dist-packages (from thinc<8.2.0,>=8.1.8->spacy<3.7.0,>=3.6.0->en-core-web-lg==3.6.0) (0.7.11)\n",
            "Requirement already satisfied: confection<1.0.0,>=0.0.1 in /usr/local/lib/python3.10/dist-packages (from thinc<8.2.0,>=8.1.8->spacy<3.7.0,>=3.6.0->en-core-web-lg==3.6.0) (0.1.4)\n",
            "Requirement already satisfied: click<9.0.0,>=7.1.1 in /usr/local/lib/python3.10/dist-packages (from typer<0.10.0,>=0.3.0->spacy<3.7.0,>=3.6.0->en-core-web-lg==3.6.0) (8.1.7)\n",
            "Requirement already satisfied: MarkupSafe>=2.0 in /usr/local/lib/python3.10/dist-packages (from jinja2->spacy<3.7.0,>=3.6.0->en-core-web-lg==3.6.0) (2.1.3)\n",
            "Installing collected packages: en-core-web-lg\n",
            "Successfully installed en-core-web-lg-3.6.0\n",
            "\u001b[38;5;2m✔ Download and installation successful\u001b[0m\n",
            "You can now load the package via spacy.load('en_core_web_lg')\n"
          ]
        }
      ]
    },
    {
      "cell_type": "code",
      "source": [
        "# Code cell 1\n",
        "#import libraries\n",
        "import pandas as pd\n",
        "import nltk\n",
        "import spacy\n",
        "from nltk.tokenize import word_tokenize\n",
        "from nltk.corpus import stopwords\n",
        "from nltk.stem import PorterStemmer\n",
        "\n",
        "\n",
        "# Load the CSV file into a DataFrame\n",
        "rra = r'/content/drive/MyDrive/restaurant_reviews_az.csv'\n",
        "df= pd.read_csv(rra)\n",
        "\n",
        "# Summary\n",
        "print(df.head(5))\n",
        "print(df.shape)\n",
        "print(df.describe())"
      ],
      "metadata": {
        "colab": {
          "base_uri": "https://localhost:8080/"
        },
        "id": "6uV0-ce78guP",
        "outputId": "4b8fc326-86fa-4bae-a984-0d659676870d"
      },
      "execution_count": null,
      "outputs": [
        {
          "output_type": "stream",
          "name": "stdout",
          "text": [
            "                review_id                 user_id             business_id  \\\n",
            "0  IVS7do_HBzroiCiymNdxDg  fdFgZQQYQJeEAshH4lxSfQ  sGy67CpJctjeCWClWqonjA   \n",
            "1  QP2pSzSqpJTMWOCuUuyXkQ  JBLWSXBTKFvJYYiM-FnCOQ  3w7NRntdQ9h0KwDsksIt5Q   \n",
            "2  oK0cGYStgDOusZKz9B1qug  2_9fKnXChUjC5xArfF8BLg  OMnPtRGmbY8qH_wIILfYKA   \n",
            "3  E_ABvFCNVLbfOgRg3Pv1KQ  9MExTQ76GSKhxSWnTS901g  V9XlikTxq0My4gE8LULsjw   \n",
            "4  Rd222CrrnXkXukR2iWj69g  LPxuausjvDN88uPr-Q4cQA  CA5BOxKRDPGJgdUQ8OUOpw   \n",
            "\n",
            "   stars  useful  funny  cool  \\\n",
            "0      3       1      1     0   \n",
            "1      5       1      1     1   \n",
            "2      5       1      0     0   \n",
            "3      5       0      0     0   \n",
            "4      4       1      0     0   \n",
            "\n",
            "                                                text                 date  \n",
            "0  OK, the hype about having Hatch chili in your ...  2020-01-27 22:59:06  \n",
            "1  Pandemic pit stop to have an ice cream.... onl...  2020-04-19 05:33:16  \n",
            "2  I was lucky enough to go to the soft opening a...  2020-02-29 19:43:44  \n",
            "3  I've gone to claim Jumpers all over the US and...  2020-03-14 21:47:07  \n",
            "4  If you haven't been  to Maynard's kitchen, it'...  2020-01-17 20:32:57  \n",
            "(48147, 9)\n",
            "              stars        useful         funny          cool\n",
            "count  48147.000000  48147.000000  48147.000000  48147.000000\n",
            "mean       3.736702      0.858683      0.183106      0.439903\n",
            "std        1.557289      1.831488      0.807035      1.451746\n",
            "min        1.000000      0.000000      0.000000      0.000000\n",
            "25%        2.000000      0.000000      0.000000      0.000000\n",
            "50%        5.000000      0.000000      0.000000      0.000000\n",
            "75%        5.000000      1.000000      0.000000      0.000000\n",
            "max        5.000000    105.000000     55.000000    106.000000\n"
          ]
        }
      ]
    },
    {
      "cell_type": "code",
      "source": [
        "# Code cell 2\n",
        "# Select 1-star reviews\n",
        "one_star_reviews = df[df['stars'] == 1]\n",
        "\n",
        "# Select 5-star reviews\n",
        "five_star_reviews = df[df['stars'] == 5]\n",
        "\n",
        "# Display the selected reviews\n",
        "print(\"1-Star Reviews:\")\n",
        "print(one_star_reviews)\n",
        "\n",
        "print(\"\\n5-Star Reviews:\")\n",
        "print(five_star_reviews)"
      ],
      "metadata": {
        "colab": {
          "base_uri": "https://localhost:8080/"
        },
        "id": "vcmatO6bsU2g",
        "outputId": "e434b2f7-978c-4749-bf4b-99bdb0059891"
      },
      "execution_count": null,
      "outputs": [
        {
          "output_type": "stream",
          "name": "stdout",
          "text": [
            "1-Star Reviews:\n",
            "                    review_id                 user_id             business_id  \\\n",
            "5      kx6O_lyLzUnA7Xip5wh2NA  YsINprB2G1DM8qG1hbrPUg  rViAhfKLKmwbhTKROM9m0w   \n",
            "13     PKlfSydanGs_EAeRFhpxNA  YCDZfgCTE1qSby-NEVqyMg  UCMSWPqzXjd7QHq7v8PJjQ   \n",
            "18     7hytDrs927SL0zvlWmf1bw  MeZJe_a7xhDTE6J5Fud3ig  7L1kXfwU5XM6f6Jxo_L7Yg   \n",
            "20     JUHZyP20BbmuXpJl7rXx3g  YluRqSnRK2XutBJ01ajX6Q  Y3ZCO17N1_T_Ms1JmswwzA   \n",
            "22     Xu3hjf40iG1Z14ki6LmPhw  pfJGmjk8prV47Ab70EmXkA  rViAhfKLKmwbhTKROM9m0w   \n",
            "...                       ...                     ...                     ...   \n",
            "48122  x3VG111BwTbwBHX5xJBr7A  JLmpKM9AsEATkkBgLCgQKg  WZUIlyefoUhuH_VkVCEyAw   \n",
            "48129  ta1ae87-OABsjAOrdSDFGA  Shman9J4spWKIXQONhDfLg  kSHgckYR4YMaWiMNT8arZA   \n",
            "48135  WYa_8Nr4nZa64qGnEqoCSQ  amhXADWkXmrfKN-WCFM5uQ  0mkWBczOhKj1QUkQvG86lQ   \n",
            "48137  PA5P-hjkag63VV8i_RA0Iw  PGOY-ncw_bfJ8wdkJY1ETA  Oby2Phs5qCX4O3VVp37gpA   \n",
            "48144  jacDcaIWSPdZq2bDq1GD_g  Y-mwrjOx29pnJX0MCBb2Yg  9VRmMY9vGhGKGz9hiGoEUw   \n",
            "\n",
            "       stars  useful  funny  cool  \\\n",
            "5          1       0      0     0   \n",
            "13         1       2      0     0   \n",
            "18         1       1      0     0   \n",
            "20         1       0      0     0   \n",
            "22         1       1      0     1   \n",
            "...      ...     ...    ...   ...   \n",
            "48122      1       1      1     0   \n",
            "48129      1       0      0     0   \n",
            "48135      1       0      0     0   \n",
            "48137      1       2      1     1   \n",
            "48144      1       0      0     0   \n",
            "\n",
            "                                                    text                 date  \n",
            "5      I stay at the Main Hotel at the Casino from Ju...  2020-07-14 16:43:23  \n",
            "13     I don't know what happened to this place but e...  2020-01-25 22:59:48  \n",
            "18     Very bad service call for takeout they got our...  2020-06-18 03:36:25  \n",
            "20     This place is not worth it. Don't go the food ...  2020-03-15 18:06:33  \n",
            "22     I was so looking forward to Del Sols re-openin...  2020-06-03 22:13:14  \n",
            "...                                                  ...                  ...  \n",
            "48122  Not good. It was a struggle to order a family ...  2021-07-09 23:39:26  \n",
            "48129  My Mom and I went for lunch August 30th and th...  2021-09-02 16:50:01  \n",
            "48135  I haven't been to a Popeyes in years and years...  2022-01-08 23:11:00  \n",
            "48137  Girlfriend wanted a burger and usually don't e...  2021-12-21 03:38:17  \n",
            "48144  If I could leave no stars I would. I understan...  2021-11-28 14:23:39  \n",
            "\n",
            "[8466 rows x 9 columns]\n",
            "\n",
            "5-Star Reviews:\n",
            "                    review_id                 user_id             business_id  \\\n",
            "1      QP2pSzSqpJTMWOCuUuyXkQ  JBLWSXBTKFvJYYiM-FnCOQ  3w7NRntdQ9h0KwDsksIt5Q   \n",
            "2      oK0cGYStgDOusZKz9B1qug  2_9fKnXChUjC5xArfF8BLg  OMnPtRGmbY8qH_wIILfYKA   \n",
            "3      E_ABvFCNVLbfOgRg3Pv1KQ  9MExTQ76GSKhxSWnTS901g  V9XlikTxq0My4gE8LULsjw   \n",
            "6      DblKoOM1O6Bug_0b6YcpIQ  8o2iLbpduMiPefS2Gy_28g  wJmyu7W1K9A_gE8Ed4Bc9w   \n",
            "7      vW2w4F27XNIkD2toYu0PKg  t9LqNtCGuNUqBeFKWoFOPg  u4P6hqDz6-QG9PR2Pj5KIw   \n",
            "...                       ...                     ...                     ...   \n",
            "48138  XtRsx73YCHC3WiDh_oZrDA  2n1VIiuJueBRHDytgTq9Zg  wIXYreqGaO5AEVjNQulbKQ   \n",
            "48141  VkXr54yJMN4Qu4dRznAN8Q  4jEdEPDNAAa3aS7rYhQ60w  MK0OMY_u9unl8xSqjPLtMw   \n",
            "48143  Zu4ng3tjf_2oa9LlnEvUmQ  ItQzeC91hJF6qvvE7-OZmQ  Yzh7Xo1_JBDWUl2BzRiYaQ   \n",
            "48145  dkGbETTcSQZTwHSnAMnLUw  _RmG_5kxRPgTWP7RptaFgQ  Bq0CQcwk5R8yhm-MGfHxCA   \n",
            "48146  YGUyDcnAxZsUAjlK3QF99g  Qa5MBgb7Xyrr9Pg5bD4taQ  jh8j-DWqgWkbRe_a2XtKFQ   \n",
            "\n",
            "       stars  useful  funny  cool  \\\n",
            "1          5       1      1     1   \n",
            "2          5       1      0     0   \n",
            "3          5       0      0     0   \n",
            "6          5       0      0     0   \n",
            "7          5       0      0     0   \n",
            "...      ...     ...    ...   ...   \n",
            "48138      5       2      0     2   \n",
            "48141      5       3      0     0   \n",
            "48143      5       0      0     0   \n",
            "48145      5       6      2     4   \n",
            "48146      5       0      0     1   \n",
            "\n",
            "                                                    text                 date  \n",
            "1      Pandemic pit stop to have an ice cream.... onl...  2020-04-19 05:33:16  \n",
            "2      I was lucky enough to go to the soft opening a...  2020-02-29 19:43:44  \n",
            "3      I've gone to claim Jumpers all over the US and...  2020-03-14 21:47:07  \n",
            "6      In town after a long weekend of hiking and cam...  2020-01-20 04:55:52  \n",
            "7      This is the definition of a great family-run b...  2020-01-16 04:58:57  \n",
            "...                                                  ...                  ...  \n",
            "48138  We had heard of this place from my daughter wh...  2021-02-21 22:03:04  \n",
            "48141  ALWAYS love this place! And it's always busy, ...  2020-01-17 20:58:05  \n",
            "48143  Fresh and delicious food, served fast. What mo...  2021-10-30 20:17:34  \n",
            "48145  Bosnian food?? \\n\\n--- location. This is a HID...  2020-01-05 04:20:42  \n",
            "48146  My secret to finding good food often starts by...  2021-11-28 22:24:05  \n",
            "\n",
            "[24467 rows x 9 columns]\n"
          ]
        }
      ]
    },
    {
      "cell_type": "code",
      "source": [
        "# Code Cell 3\n",
        "nltk.download('punkt')\n",
        "nltk.download('stopwords')\n",
        "\n",
        "# Tokenization, lowercasing, and removing stop words\n",
        "stop_words = set(stopwords.words('english'))\n",
        "ps = PorterStemmer()\n",
        "\n",
        "def preprocess_text(text):\n",
        "    tokens = word_tokenize(text)\n",
        "    tokens = [ps.stem(token.lower()) for token in tokens if token.isalpha() and token.lower() not in stop_words]\n",
        "    return tokens\n",
        "\n",
        "# Apply text processing techniques to the reviews\n",
        "one_star_reviews['processed'] = one_star_reviews['text'].apply(preprocess_text)\n",
        "five_star_reviews['processed'] = five_star_reviews['text'].apply(preprocess_text)\n"
      ],
      "metadata": {
        "colab": {
          "base_uri": "https://localhost:8080/"
        },
        "id": "lYztfFKd9EaR",
        "outputId": "84412517-55e4-4074-846a-11bc76aa8443"
      },
      "execution_count": null,
      "outputs": [
        {
          "output_type": "stream",
          "name": "stderr",
          "text": [
            "[nltk_data] Downloading package punkt to /root/nltk_data...\n",
            "[nltk_data]   Package punkt is already up-to-date!\n",
            "[nltk_data] Downloading package stopwords to /root/nltk_data...\n",
            "[nltk_data]   Package stopwords is already up-to-date!\n",
            "<ipython-input-11-a8f85865ccd8>:15: SettingWithCopyWarning: \n",
            "A value is trying to be set on a copy of a slice from a DataFrame.\n",
            "Try using .loc[row_indexer,col_indexer] = value instead\n",
            "\n",
            "See the caveats in the documentation: https://pandas.pydata.org/pandas-docs/stable/user_guide/indexing.html#returning-a-view-versus-a-copy\n",
            "  one_star_reviews['processed'] = one_star_reviews['text'].apply(preprocess_text)\n",
            "<ipython-input-11-a8f85865ccd8>:16: SettingWithCopyWarning: \n",
            "A value is trying to be set on a copy of a slice from a DataFrame.\n",
            "Try using .loc[row_indexer,col_indexer] = value instead\n",
            "\n",
            "See the caveats in the documentation: https://pandas.pydata.org/pandas-docs/stable/user_guide/indexing.html#returning-a-view-versus-a-copy\n",
            "  five_star_reviews['processed'] = five_star_reviews['text'].apply(preprocess_text)\n"
          ]
        }
      ]
    },
    {
      "cell_type": "code",
      "source": [
        "# Code Cell 4\n",
        "from nltk import pos_tag\n",
        "from collections import Counter\n",
        "nltk.download('averaged_perceptron_tagger')\n",
        "\n",
        "# Assuming 'processed_reviews' is a list of tokenized reviews\n",
        "\n",
        "def get_nouns(review_tokens):\n",
        "    # Use POS tagging to get nouns\n",
        "    tagged_tokens = pos_tag(review_tokens)\n",
        "    nouns = [word for word, pos in tagged_tokens if pos.startswith('N')]\n",
        "    return nouns\n",
        "\n",
        "# Get nouns for 1-star reviews\n",
        "one_star_nouns = [noun for review_tokens in one_star_reviews['processed'] for noun in get_nouns(review_tokens)]\n",
        "one_star_nouns_counter = Counter(one_star_nouns)\n",
        "\n",
        "# Get nouns for 5-star reviews\n",
        "five_star_nouns = [noun for review_tokens in five_star_reviews['processed'] for noun in get_nouns(review_tokens)]\n",
        "five_star_nouns_counter = Counter(five_star_nouns)\n",
        "\n",
        "# Display the top 20 nouns for each category\n",
        "print(\"Top 20 Nouns in 1-Star Reviews:\")\n",
        "print(one_star_nouns_counter.most_common(20))\n",
        "\n",
        "print(\"\\nTop 20 Nouns in 5-Star Reviews:\")\n",
        "print(five_star_nouns_counter.most_common(20))"
      ],
      "metadata": {
        "colab": {
          "base_uri": "https://localhost:8080/"
        },
        "id": "tM2U2-dz8LZK",
        "outputId": "4807aa4a-7b95-4a4e-e1c0-24c34c50c4dc"
      },
      "execution_count": null,
      "outputs": [
        {
          "output_type": "stream",
          "name": "stderr",
          "text": [
            "[nltk_data] Downloading package averaged_perceptron_tagger to\n",
            "[nltk_data]     /root/nltk_data...\n",
            "[nltk_data]   Package averaged_perceptron_tagger is already up-to-\n",
            "[nltk_data]       date!\n"
          ]
        },
        {
          "output_type": "stream",
          "name": "stdout",
          "text": [
            "Top 20 Nouns in 1-Star Reviews:\n",
            "[('order', 8662), ('food', 6602), ('time', 4376), ('place', 3686), ('wait', 2053), ('custom', 2021), ('minut', 2008), ('manag', 1735), ('restaur', 1725), ('ask', 1678), ('servic', 1329), ('call', 1312), ('hour', 1261), ('eat', 1216), ('disappoint', 1157), ('way', 1133), ('tabl', 1122), ('tri', 1078), ('peopl', 1076), ('staff', 1047)]\n",
            "\n",
            "Top 20 Nouns in 5-Star Reviews:\n",
            "[('food', 16035), ('place', 11006), ('order', 8550), ('time', 7208), ('delici', 6130), ('tucson', 4421), ('staff', 4197), ('restaur', 3827), ('tri', 3635), ('flavor', 3530), ('amaz', 3400), ('definit', 3223), ('servic', 3001), ('realli', 2829), ('love', 2782), ('menu', 2744), ('friendli', 2743), ('pizza', 2609), ('chicken', 2439), ('eat', 2329)]\n"
          ]
        }
      ]
    },
    {
      "cell_type": "code",
      "source": [
        "# Code Cell 5\n",
        "def get_adjectives(review_tokens):\n",
        "    # Use POS tagging to get adjectives\n",
        "    tagged_tokens = pos_tag(review_tokens)\n",
        "    adjectives = [word for word, pos in tagged_tokens if pos.startswith('J')]\n",
        "    return adjectives\n",
        "\n",
        "# Get adjectives for 1-star reviews\n",
        "one_star_adjectives = [adj for review_tokens in one_star_reviews['processed'] for adj in get_adjectives(review_tokens)]\n",
        "one_star_adjectives_counter = Counter(one_star_adjectives)\n",
        "\n",
        "# Get adjectives for 5-star reviews\n",
        "five_star_adjectives = [adj for review_tokens in five_star_reviews['processed'] for adj in get_adjectives(review_tokens)]\n",
        "five_star_adjectives_counter = Counter(five_star_adjectives)\n",
        "\n",
        "# Display the top 20 adjectives for each category\n",
        "print(\"Top 20 Adjectives in 1-Star Reviews:\")\n",
        "print(one_star_adjectives_counter.most_common(20))\n",
        "\n",
        "print(\"\\nTop 20 Adjectives in 5-Star Reviews:\")\n",
        "print(five_star_adjectives_counter.most_common(20))"
      ],
      "metadata": {
        "colab": {
          "base_uri": "https://localhost:8080/"
        },
        "id": "W63rCqqLXqA6",
        "outputId": "9b464ae5-6157-4a24-d65e-3b7e284ac8d5"
      },
      "execution_count": null,
      "outputs": [
        {
          "output_type": "stream",
          "name": "stdout",
          "text": [
            "Top 20 Adjectives in 1-Star Reviews:\n",
            "[('good', 1853), ('servic', 1485), ('bad', 1234), ('last', 952), ('worst', 845), ('great', 731), ('first', 702), ('wrong', 699), ('final', 682), ('open', 678), ('new', 633), ('sure', 620), ('much', 577), ('cold', 533), ('small', 513), ('old', 501), ('ask', 494), ('close', 485), ('next', 483), ('hard', 473)]\n",
            "\n",
            "Top 20 Adjectives in 5-Star Reviews:\n",
            "[('great', 12453), ('good', 9749), ('best', 4864), ('servic', 3828), ('fresh', 3397), ('nice', 3188), ('new', 1860), ('hot', 1811), ('perfect', 1811), ('first', 1703), ('open', 1550), ('tri', 1548), ('super', 1547), ('sure', 1453), ('clean', 1448), ('top', 1405), ('special', 1347), ('next', 1346), ('much', 1340), ('friendli', 1305)]\n"
          ]
        }
      ]
    },
    {
      "cell_type": "code",
      "source": [
        "# Code Cell 6\n",
        "def get_verbs(review_tokens):\n",
        "    # Use POS tagging to get verbs\n",
        "    tagged_tokens = pos_tag(review_tokens)\n",
        "    verbs = [word for word, pos in tagged_tokens if pos.startswith('V')]\n",
        "    return verbs\n",
        "\n",
        "# Get verbs for 1-star reviews\n",
        "one_star_verbs = [verb for review_tokens in one_star_reviews['processed'] for verb in get_verbs(review_tokens)]\n",
        "one_star_verbs_counter = Counter(one_star_verbs)\n",
        "\n",
        "# Get verbs for 5-star reviews\n",
        "five_star_verbs = [verb for review_tokens in five_star_reviews['processed'] for verb in get_verbs(review_tokens)]\n",
        "five_star_verbs_counter = Counter(five_star_verbs)\n",
        "\n",
        "# Display the top 20 verbs for each category\n",
        "print(\"Top 20 Verbs in 1-Star Reviews:\")\n",
        "print(one_star_verbs_counter.most_common(20))\n",
        "\n",
        "print(\"\\nTop 20 Verbs in 5-Star Reviews:\")\n",
        "print(five_star_verbs_counter.most_common(20))"
      ],
      "metadata": {
        "colab": {
          "base_uri": "https://localhost:8080/"
        },
        "id": "_mB1L_sOXp47",
        "outputId": "fbec4737-8552-4604-b29c-25468d62afd0"
      },
      "execution_count": null,
      "outputs": [
        {
          "output_type": "stream",
          "name": "stdout",
          "text": [
            "Top 20 Verbs in 1-Star Reviews:\n",
            "[('go', 3803), ('get', 2757), ('said', 2391), ('got', 2362), ('told', 1754), ('went', 1700), ('came', 1670), ('come', 1613), ('want', 1469), ('say', 1452), ('take', 1368), ('make', 1310), ('know', 1176), ('took', 1117), ('made', 935), ('give', 928), ('wait', 868), ('left', 809), ('put', 762), ('ask', 746)]\n",
            "\n",
            "Top 20 Verbs in 5-Star Reviews:\n",
            "[('go', 5861), ('love', 3724), ('got', 3658), ('get', 3600), ('come', 3429), ('make', 2621), ('made', 2621), ('recommend', 2539), ('came', 2202), ('take', 2001), ('want', 1813), ('went', 1805), ('say', 1448), ('know', 1253), ('wait', 1222), ('drink', 1221), ('took', 1038), ('find', 886), ('see', 860), ('think', 855)]\n"
          ]
        }
      ]
    },
    {
      "cell_type": "code",
      "source": [
        "# Code Cell 7\n",
        "# Load spaCy English language model\n",
        "nlp = spacy.load(\"en_core_web_sm\")\n",
        "\n",
        "def get_named_entities_spacy(review_text):\n",
        "    # Process the review text with spaCy\n",
        "    doc = nlp(review_text)\n",
        "    named_entities = [ent.text for ent in doc.ents if ent.label_ in [\"PERSON\", \"ORG\", \"GPE\"]]  # Customize labels as needed\n",
        "    return named_entities\n",
        "\n",
        "# Get named entities for 1-star reviews\n",
        "one_star_named_entities_spacy = [entity for review_text in one_star_reviews['text'] for entity in get_named_entities_spacy(review_text)]\n",
        "one_star_named_entities_counter_spacy = Counter(one_star_named_entities_spacy)\n",
        "\n",
        "# Get named entities for 5-star reviews\n",
        "five_star_named_entities_spacy = [entity for review_text in five_star_reviews['text'] for entity in get_named_entities_spacy(review_text)]\n",
        "five_star_named_entities_counter_spacy = Counter(five_star_named_entities_spacy)\n",
        "\n",
        "# Display the top 20 named entities for each category\n",
        "print(\"Top 20 Named Entities in 1-Star Reviews (spaCy):\")\n",
        "print(one_star_named_entities_counter_spacy.most_common(20))\n",
        "\n",
        "print(\"\\nTop 20 Named Entities in 5-Star Reviews (spaCy):\")\n",
        "print(five_star_named_entities_counter_spacy.most_common(20))"
      ],
      "metadata": {
        "id": "T_W9YA_iYqze",
        "colab": {
          "base_uri": "https://localhost:8080/"
        },
        "outputId": "1f6b5f14-a175-4b06-8c8a-1c6aba8f1485"
      },
      "execution_count": null,
      "outputs": [
        {
          "output_type": "stream",
          "name": "stdout",
          "text": [
            "Top 20 Named Entities in 1-Star Reviews (spaCy):\n",
            "[('Tucson', 547), ('Covid', 107), (\"McDonald's\", 97), ('COVID', 84), ('McDonald', 81), ('taco', 70), ('Taco Bell', 63), ('Denny', 58), ('Yelp', 57), ('Arizona', 53), ('KFC', 52), ('Mac', 48), ('burrito', 47), ('BBQ', 47), ('NEVER', 46), ('California', 45), ('Panda Express', 44), ('Popeyes', 42), ('COVID-19', 38), ('Grubhub', 36)]\n",
            "\n",
            "Top 20 Named Entities in 5-Star Reviews (spaCy):\n",
            "[('Tucson', 4739), ('Covid', 297), ('Sonoran', 284), ('BBQ', 274), ('Arizona', 270), ('taco', 241), ('COVID', 225), ('Yelp', 222), ('Phoenix', 170), ('California', 170), ('asada', 148), ('WOW', 137), ('Mac', 136), ('COVID-19', 134), ('Benedict', 131), ('burrito', 129), ('Texas', 112), ('Chile', 111), ('Chicago', 111), ('Yummy', 106)]\n"
          ]
        }
      ]
    },
    {
      "cell_type": "markdown",
      "source": [
        "#Code cell 8\n",
        "In 1-star reviews, people often mention places like Tucson, expressing dissatisfaction with food or service, using words like \"bad\" and \"worst.\" Verbs like \"go\" and \"get\" are common, indicating negative experiences. Adjectives such as \"good\" and \"great\" are used to describe service and food. Key nouns include \"order,\" \"food,\" and \"time,\" reflecting disappointment in various aspects. In contrast, 5-star reviews highlight positive experiences in Tucson with words like \"great\" and \"best.\" Verbs like \"love\" and \"recommend\" signify positive sentiments. Adjectives such as \"delicious\" and \"fresh\" describe food, emphasizing positive aspects. Key nouns include \"food,\" \"place,\" and \"order,\" showcasing delightful experiences. A good restaurant experience involves exceptional service, tasty food, and a welcoming atmosphere."
      ],
      "metadata": {
        "id": "y7gNDcd5s094"
      }
    }
  ]
}